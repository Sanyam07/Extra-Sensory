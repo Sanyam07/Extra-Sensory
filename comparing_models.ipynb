{
 "cells": [
  {
   "cell_type": "code",
   "execution_count": 1,
   "metadata": {
    "scrolled": true
   },
   "outputs": [],
   "source": [
    "import pickle\n",
    "import os\n",
    "\n",
    "from sklearn.linear_model import LogisticRegression\n",
    "from sklearn.ensemble import RandomForestClassifier\n",
    "from ExtraSensoryModels.Models.early_fusion import EarlyFusion\n",
    "from ExtraSensoryModels.Interfaces.ExtraSensoryAbstractModel import ExtraSensoryAbstractModel \n",
    "\n",
    "train_df = r\"C:\\Users\\itama\\Desktop\\courses\\Project\\Extra-Sensory-Yarden\\src\\Extra-Sensory\\data\\folds\\test.csv\"\n",
    "logistic_path = r\"C:\\Users\\itama\\Desktop\\courses\\Project\\Extra-Sensory-Yarden\\src\\Extra-Sensory\\data\\models\\early_fusion_01-12-2020_21-05-13\"\n",
    "random_forest_path = r\"C:\\Users\\itama\\Desktop\\courses\\Project\\Extra-Sensory-Yarden\\src\\Extra-Sensory\\data\\models\\early_fusion_01-12-2020_21-08-08\"\n",
    "\n",
    "with open(logistic_path, 'rb') as model:\n",
    "    early_fusion_logistic = pickle.load(model)\n",
    "    \n",
    "with open(random_forest_path, 'rb') as model:\n",
    "    early_fusion_random_forest =  pickle.load(model)"
   ]
  },
  {
   "cell_type": "code",
   "execution_count": 9,
   "metadata": {},
   "outputs": [],
   "source": [
    "from utils.ReadingTheDataUtils import get_dataframe\n",
    "from utils.TransformerUtils import get_X_y\n",
    "\n",
    "test_df_path = r\"C:\\Users\\itama\\Desktop\\courses\\Project\\Extra-Sensory-Yarden\\src\\Extra-Sensory\\data\\folds\\test.csv\"\n",
    "\n",
    "test_df = get_dataframe(test_df_path)\n",
    "X, y = get_X_y(test_df, early_fusion_logistic.get_pipe(), is_fitted=True)\n",
    "logistic_predictions = early_fusion_logistic.predict(X)\n",
    "random_forest_predictions = early_fusion_random_forest.predict(X)"
   ]
  },
  {
   "cell_type": "code",
   "execution_count": 15,
   "metadata": {},
   "outputs": [
    {
     "name": "stdout",
     "output_type": "stream",
     "text": [
      "(68009, 200)\n"
     ]
    },
    {
     "data": {
      "text/plain": [
       "(32441, 200)"
      ]
     },
     "execution_count": 15,
     "metadata": {},
     "output_type": "execute_result"
    }
   ],
   "source": [
    "mask = logistic_predictions != random_forest_predictions\n",
    "print(X.shape)\n",
    "X[mask].shape"
   ]
  },
  {
   "cell_type": "code",
   "execution_count": 18,
   "metadata": {},
   "outputs": [
    {
     "name": "stdout",
     "output_type": "stream",
     "text": [
      "              precision    recall  f1-score   support\n",
      "\n",
      "           0       0.34      0.26      0.29     15870\n",
      "           1       0.00      0.00      0.00      1359\n",
      "           2       0.00      0.00      0.00       402\n",
      "           3       0.00      0.00      0.00       294\n",
      "           4       0.33      0.46      0.39     30475\n",
      "           5       0.09      0.07      0.08     19609\n",
      "\n",
      "    accuracy                           0.29     68009\n",
      "   macro avg       0.13      0.13      0.13     68009\n",
      "weighted avg       0.26      0.29      0.26     68009\n",
      "\n",
      "              precision    recall  f1-score   support\n",
      "\n",
      "           0       0.26      0.20      0.23     15870\n",
      "           1       0.02      0.08      0.03      1359\n",
      "           2       0.01      0.04      0.01       402\n",
      "           3       0.04      0.53      0.07       294\n",
      "           4       0.26      0.23      0.24     30475\n",
      "           5       0.12      0.10      0.11     19609\n",
      "\n",
      "    accuracy                           0.18     68009\n",
      "   macro avg       0.12      0.20      0.11     68009\n",
      "weighted avg       0.21      0.18      0.19     68009\n",
      "\n"
     ]
    },
    {
     "name": "stderr",
     "output_type": "stream",
     "text": [
      "C:\\Users\\itama\\Anaconda3\\lib\\site-packages\\sklearn\\metrics\\classification.py:1437: UndefinedMetricWarning: Precision and F-score are ill-defined and being set to 0.0 in labels with no predicted samples.\n",
      "  'precision', 'predicted', average, warn_for)\n"
     ]
    }
   ],
   "source": [
    "from sklearn.metrics import classification_report\n",
    "\n",
    "print(classification_report(y, logistic_predictions))\n",
    "print(classification_report(y, random_forest_predictions))"
   ]
  },
  {
   "cell_type": "code",
   "execution_count": null,
   "metadata": {},
   "outputs": [],
   "source": []
  }
 ],
 "metadata": {
  "kernelspec": {
   "display_name": "Python 3",
   "language": "python",
   "name": "python3"
  },
  "language_info": {
   "codemirror_mode": {
    "name": "ipython",
    "version": 3
   },
   "file_extension": ".py",
   "mimetype": "text/x-python",
   "name": "python",
   "nbconvert_exporter": "python",
   "pygments_lexer": "ipython3",
   "version": "3.7.4"
  }
 },
 "nbformat": 4,
 "nbformat_minor": 1
}
