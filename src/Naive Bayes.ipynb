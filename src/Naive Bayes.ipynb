{
 "cells": [
  {
   "cell_type": "code",
   "execution_count": 2,
   "metadata": {},
   "outputs": [
    {
     "data": {
      "text/html": [
       "<style>.container { width:100% !important; }</style>"
      ],
      "text/plain": [
       "<IPython.core.display.HTML object>"
      ]
     },
     "metadata": {},
     "output_type": "display_data"
    }
   ],
   "source": [
    "%matplotlib inline\n",
    "\n",
    "import matplotlib as mpl\n",
    "import matplotlib.pyplot as plt\n",
    "import pandas as pd \n",
    "import numpy as np\n",
    "import gc\n",
    "\n",
    "from IPython.core.display import display, HTML\n",
    "display(HTML(\"<style>.container { width:100% !important; }</style>\"))\n",
    "from IPython.core.interactiveshell import InteractiveShell\n",
    "InteractiveShell.ast_node_interactivity = \"all\"\n",
    "\n",
    "import warnings\n",
    "warnings.filterwarnings(action='ignore')"
   ]
  },
  {
   "cell_type": "code",
   "execution_count": 3,
   "metadata": {},
   "outputs": [
    {
     "name": "stdout",
     "output_type": "stream",
     "text": [
      "2019-12-29 16:51:08,256 - DEBUG - MainThread - Classifiers - <module> - First time initialize logger!\n"
     ]
    }
   ],
   "source": [
    "from General import *\n",
    "from ReadingTheDataUtils import *\n",
    "from Classifiers import *\n",
    "from PreproccesUtils import *\n",
    "from PerformanceEvalutionUtils import *\n",
    "\n",
    "# Make the notebook automatically reload external python modules\n",
    "%load_ext autoreload\n",
    "%autoreload 2"
   ]
  },
  {
   "cell_type": "code",
   "execution_count": 4,
   "metadata": {},
   "outputs": [],
   "source": [
    "from pathlib import Path\n",
    "\n",
    "ROOT_PATH = Path('..')\n",
    "SRC_PATH = Path('.')\n",
    "DATA_PATH = ROOT_PATH / 'data'\n",
    "CSV_PATH = DATA_PATH / 'ExtraSensory.per_uuid_features_labels'\n",
    "CSV_SUFFIX = '.features_labels.csv'\n",
    "ORIGINAL_LABLES_CSV_PATH = DATA_PATH / 'ExtraSensory.per_uuid_original_labels'\n",
    "ORIGINAL_LABLES_CSV_SUFFIX = '.original_labels.csv'\n",
    "FOLD_PATH = DATA_PATH / 'cv_5_folds'"
   ]
  },
  {
   "cell_type": "code",
   "execution_count": 5,
   "metadata": {},
   "outputs": [
    {
     "name": "stdout",
     "output_type": "stream",
     "text": [
      "Wall time: 14 s\n"
     ]
    }
   ],
   "source": [
    "%%time\n",
    "data = pd.read_csv(DATA_PATH / 'dataset.csv', index_col='uuid')"
   ]
  },
  {
   "cell_type": "code",
   "execution_count": 6,
   "metadata": {},
   "outputs": [],
   "source": [
    "data['label'] = data['label'].astype('category')\n",
    "\n",
    "for col in data.columns:\n",
    "    if col.startswith('discrete'):\n",
    "        data[col] = data[col].astype('category')"
   ]
  },
  {
   "cell_type": "code",
   "execution_count": 7,
   "metadata": {},
   "outputs": [
    {
     "name": "stdout",
     "output_type": "stream",
     "text": [
      "<class 'pandas.core.frame.DataFrame'>\n",
      "Index: 377346 entries, 00EABED2-271D-49D8-B599-1D4A09240601 to FDAA70A1-42A3-4E3F-9AE3-3FDA412E03BF\n",
      "Data columns (total 228 columns):\n",
      "raw_acc:magnitude_stats:mean                                               377056 non-null float64\n",
      "raw_acc:magnitude_stats:std                                                377056 non-null float64\n",
      "raw_acc:magnitude_stats:moment3                                            377056 non-null float64\n",
      "raw_acc:magnitude_stats:moment4                                            377056 non-null float64\n",
      "raw_acc:magnitude_stats:percentile25                                       377056 non-null float64\n",
      "raw_acc:magnitude_stats:percentile50                                       377056 non-null float64\n",
      "raw_acc:magnitude_stats:percentile75                                       377056 non-null float64\n",
      "raw_acc:magnitude_stats:value_entropy                                      377056 non-null float64\n",
      "raw_acc:magnitude_stats:time_entropy                                       377056 non-null float64\n",
      "raw_acc:magnitude_spectrum:log_energy_band0                                377056 non-null float64\n",
      "raw_acc:magnitude_spectrum:log_energy_band1                                377056 non-null float64\n",
      "raw_acc:magnitude_spectrum:log_energy_band2                                377056 non-null float64\n",
      "raw_acc:magnitude_spectrum:log_energy_band3                                377056 non-null float64\n",
      "raw_acc:magnitude_spectrum:log_energy_band4                                377056 non-null float64\n",
      "raw_acc:magnitude_spectrum:spectral_entropy                                377056 non-null float64\n",
      "raw_acc:magnitude_autocorrelation:period                                   377056 non-null float64\n",
      "raw_acc:magnitude_autocorrelation:normalized_ac                            377056 non-null float64\n",
      "raw_acc:3d:mean_x                                                          377056 non-null float64\n",
      "raw_acc:3d:mean_y                                                          377056 non-null float64\n",
      "raw_acc:3d:mean_z                                                          377056 non-null float64\n",
      "raw_acc:3d:std_x                                                           377056 non-null float64\n",
      "raw_acc:3d:std_y                                                           377056 non-null float64\n",
      "raw_acc:3d:std_z                                                           377056 non-null float64\n",
      "raw_acc:3d:ro_xy                                                           377056 non-null float64\n",
      "raw_acc:3d:ro_xz                                                           377056 non-null float64\n",
      "raw_acc:3d:ro_yz                                                           377056 non-null float64\n",
      "proc_gyro:magnitude_stats:mean                                             359912 non-null float64\n",
      "proc_gyro:magnitude_stats:std                                              359912 non-null float64\n",
      "proc_gyro:magnitude_stats:moment3                                          359912 non-null float64\n",
      "proc_gyro:magnitude_stats:moment4                                          359912 non-null float64\n",
      "proc_gyro:magnitude_stats:percentile25                                     359912 non-null float64\n",
      "proc_gyro:magnitude_stats:percentile50                                     359912 non-null float64\n",
      "proc_gyro:magnitude_stats:percentile75                                     359912 non-null float64\n",
      "proc_gyro:magnitude_stats:value_entropy                                    359912 non-null float64\n",
      "proc_gyro:magnitude_stats:time_entropy                                     359912 non-null float64\n",
      "proc_gyro:magnitude_spectrum:log_energy_band0                              359912 non-null float64\n",
      "proc_gyro:magnitude_spectrum:log_energy_band1                              359912 non-null float64\n",
      "proc_gyro:magnitude_spectrum:log_energy_band2                              359912 non-null float64\n",
      "proc_gyro:magnitude_spectrum:log_energy_band3                              359912 non-null float64\n",
      "proc_gyro:magnitude_spectrum:log_energy_band4                              359912 non-null float64\n",
      "proc_gyro:magnitude_spectrum:spectral_entropy                              359912 non-null float64\n",
      "proc_gyro:magnitude_autocorrelation:period                                 359912 non-null float64\n",
      "proc_gyro:magnitude_autocorrelation:normalized_ac                          359898 non-null float64\n",
      "proc_gyro:3d:mean_x                                                        359912 non-null float64\n",
      "proc_gyro:3d:mean_y                                                        359912 non-null float64\n",
      "proc_gyro:3d:mean_z                                                        359912 non-null float64\n",
      "proc_gyro:3d:std_x                                                         359912 non-null float64\n",
      "proc_gyro:3d:std_y                                                         359912 non-null float64\n",
      "proc_gyro:3d:std_z                                                         359912 non-null float64\n",
      "proc_gyro:3d:ro_xy                                                         358123 non-null float64\n",
      "proc_gyro:3d:ro_xz                                                         358114 non-null float64\n",
      "proc_gyro:3d:ro_yz                                                         358114 non-null float64\n",
      "raw_magnet:magnitude_stats:mean                                            346025 non-null float64\n",
      "raw_magnet:magnitude_stats:std                                             346025 non-null float64\n",
      "raw_magnet:magnitude_stats:moment3                                         346025 non-null float64\n",
      "raw_magnet:magnitude_stats:moment4                                         346025 non-null float64\n",
      "raw_magnet:magnitude_stats:percentile25                                    346025 non-null float64\n",
      "raw_magnet:magnitude_stats:percentile50                                    346025 non-null float64\n",
      "raw_magnet:magnitude_stats:percentile75                                    346025 non-null float64\n",
      "raw_magnet:magnitude_stats:value_entropy                                   346025 non-null float64\n",
      "raw_magnet:magnitude_stats:time_entropy                                    346025 non-null float64\n",
      "raw_magnet:magnitude_spectrum:log_energy_band0                             346025 non-null float64\n",
      "raw_magnet:magnitude_spectrum:log_energy_band1                             346025 non-null float64\n",
      "raw_magnet:magnitude_spectrum:log_energy_band2                             346025 non-null float64\n",
      "raw_magnet:magnitude_spectrum:log_energy_band3                             346025 non-null float64\n",
      "raw_magnet:magnitude_spectrum:log_energy_band4                             346025 non-null float64\n",
      "raw_magnet:magnitude_spectrum:spectral_entropy                             346025 non-null float64\n",
      "raw_magnet:magnitude_autocorrelation:period                                346025 non-null float64\n",
      "raw_magnet:magnitude_autocorrelation:normalized_ac                         346024 non-null float64\n",
      "raw_magnet:3d:mean_x                                                       346025 non-null float64\n",
      "raw_magnet:3d:mean_y                                                       346025 non-null float64\n",
      "raw_magnet:3d:mean_z                                                       346025 non-null float64\n",
      "raw_magnet:3d:std_x                                                        346025 non-null float64\n",
      "raw_magnet:3d:std_y                                                        346025 non-null float64\n",
      "raw_magnet:3d:std_z                                                        346025 non-null float64\n",
      "raw_magnet:3d:ro_xy                                                        345149 non-null float64\n",
      "raw_magnet:3d:ro_xz                                                        345575 non-null float64\n",
      "raw_magnet:3d:ro_yz                                                        345449 non-null float64\n",
      "raw_magnet:avr_cosine_similarity_lag_range0                                346025 non-null float64\n",
      "raw_magnet:avr_cosine_similarity_lag_range1                                346025 non-null float64\n",
      "raw_magnet:avr_cosine_similarity_lag_range2                                346025 non-null float64\n",
      "raw_magnet:avr_cosine_similarity_lag_range3                                346025 non-null float64\n",
      "raw_magnet:avr_cosine_similarity_lag_range4                                346025 non-null float64\n",
      "watch_acceleration:magnitude_stats:mean                                    244802 non-null float64\n",
      "watch_acceleration:magnitude_stats:std                                     244802 non-null float64\n",
      "watch_acceleration:magnitude_stats:moment3                                 244802 non-null float64\n",
      "watch_acceleration:magnitude_stats:moment4                                 244802 non-null float64\n",
      "watch_acceleration:magnitude_stats:percentile25                            244802 non-null float64\n",
      "watch_acceleration:magnitude_stats:percentile50                            244802 non-null float64\n",
      "watch_acceleration:magnitude_stats:percentile75                            244802 non-null float64\n",
      "watch_acceleration:magnitude_stats:value_entropy                           244802 non-null float64\n",
      "watch_acceleration:magnitude_stats:time_entropy                            244802 non-null float64\n",
      "watch_acceleration:magnitude_spectrum:log_energy_band0                     244802 non-null float64\n",
      "watch_acceleration:magnitude_spectrum:log_energy_band1                     244802 non-null float64\n",
      "watch_acceleration:magnitude_spectrum:log_energy_band2                     244802 non-null float64\n",
      "watch_acceleration:magnitude_spectrum:log_energy_band3                     244802 non-null float64\n",
      "watch_acceleration:magnitude_spectrum:log_energy_band4                     244802 non-null float64\n",
      "watch_acceleration:magnitude_spectrum:spectral_entropy                     244802 non-null float64\n",
      "watch_acceleration:magnitude_autocorrelation:period                        244802 non-null float64\n",
      "watch_acceleration:magnitude_autocorrelation:normalized_ac                 244802 non-null float64\n",
      "watch_acceleration:3d:mean_x                                               244802 non-null float64\n",
      "watch_acceleration:3d:mean_y                                               244802 non-null float64\n",
      "watch_acceleration:3d:mean_z                                               244802 non-null float64\n",
      "watch_acceleration:3d:std_x                                                244802 non-null float64\n",
      "watch_acceleration:3d:std_y                                                244802 non-null float64\n",
      "watch_acceleration:3d:std_z                                                244802 non-null float64\n",
      "watch_acceleration:3d:ro_xy                                                244802 non-null float64\n",
      "watch_acceleration:3d:ro_xz                                                244802 non-null float64\n",
      "watch_acceleration:3d:ro_yz                                                244802 non-null float64\n",
      "watch_acceleration:spectrum:x_log_energy_band0                             244802 non-null float64\n",
      "watch_acceleration:spectrum:x_log_energy_band1                             244802 non-null float64\n",
      "watch_acceleration:spectrum:x_log_energy_band2                             244802 non-null float64\n",
      "watch_acceleration:spectrum:x_log_energy_band3                             244802 non-null float64\n",
      "watch_acceleration:spectrum:x_log_energy_band4                             244802 non-null float64\n",
      "watch_acceleration:spectrum:y_log_energy_band0                             244802 non-null float64\n",
      "watch_acceleration:spectrum:y_log_energy_band1                             244802 non-null float64\n",
      "watch_acceleration:spectrum:y_log_energy_band2                             244802 non-null float64\n",
      "watch_acceleration:spectrum:y_log_energy_band3                             244802 non-null float64\n",
      "watch_acceleration:spectrum:y_log_energy_band4                             244802 non-null float64\n",
      "watch_acceleration:spectrum:z_log_energy_band0                             244802 non-null float64\n",
      "watch_acceleration:spectrum:z_log_energy_band1                             244802 non-null float64\n",
      "watch_acceleration:spectrum:z_log_energy_band2                             244802 non-null float64\n",
      "watch_acceleration:spectrum:z_log_energy_band3                             244802 non-null float64\n",
      "watch_acceleration:spectrum:z_log_energy_band4                             244802 non-null float64\n",
      "watch_acceleration:relative_directions:avr_cosine_similarity_lag_range0    244802 non-null float64\n",
      "watch_acceleration:relative_directions:avr_cosine_similarity_lag_range1    244802 non-null float64\n",
      "watch_acceleration:relative_directions:avr_cosine_similarity_lag_range2    244802 non-null float64\n",
      "watch_acceleration:relative_directions:avr_cosine_similarity_lag_range3    244802 non-null float64\n",
      "watch_acceleration:relative_directions:avr_cosine_similarity_lag_range4    244802 non-null float64\n",
      "watch_heading:mean_cos                                                     147415 non-null float64\n",
      "watch_heading:std_cos                                                      147415 non-null float64\n",
      "watch_heading:mom3_cos                                                     147415 non-null float64\n",
      "watch_heading:mom4_cos                                                     147415 non-null float64\n",
      "watch_heading:mean_sin                                                     147415 non-null float64\n",
      "watch_heading:std_sin                                                      147415 non-null float64\n",
      "watch_heading:mom3_sin                                                     147415 non-null float64\n",
      "watch_heading:mom4_sin                                                     147415 non-null float64\n",
      "watch_heading:entropy_8bins                                                147415 non-null float64\n",
      "location:num_valid_updates                                                 333934 non-null float64\n",
      "location:log_latitude_range                                                301999 non-null float64\n",
      "location:log_longitude_range                                               301999 non-null float64\n",
      "location:min_altitude                                                      217100 non-null float64\n",
      "location:max_altitude                                                      217100 non-null float64\n",
      "location:min_speed                                                         104529 non-null float64\n",
      "location:max_speed                                                         104529 non-null float64\n",
      "location:best_horizontal_accuracy                                          305338 non-null float64\n",
      "location:best_vertical_accuracy                                            217100 non-null float64\n",
      "location:diameter                                                          333934 non-null float64\n",
      "location:log_diameter                                                      333934 non-null float64\n",
      "location_quick_features:std_lat                                            320576 non-null float64\n",
      "location_quick_features:std_long                                           317601 non-null float64\n",
      "location_quick_features:lat_change                                         322288 non-null float64\n",
      "location_quick_features:long_change                                        322288 non-null float64\n",
      "location_quick_features:mean_abs_lat_deriv                                 318016 non-null float64\n",
      "location_quick_features:mean_abs_long_deriv                                317996 non-null float64\n",
      "audio_naive:mfcc0:mean                                                     367752 non-null float64\n",
      "audio_naive:mfcc1:mean                                                     367752 non-null float64\n",
      "audio_naive:mfcc2:mean                                                     367752 non-null float64\n",
      "audio_naive:mfcc3:mean                                                     367752 non-null float64\n",
      "audio_naive:mfcc4:mean                                                     367752 non-null float64\n",
      "audio_naive:mfcc5:mean                                                     367752 non-null float64\n",
      "audio_naive:mfcc6:mean                                                     367752 non-null float64\n",
      "audio_naive:mfcc7:mean                                                     367752 non-null float64\n",
      "audio_naive:mfcc8:mean                                                     367752 non-null float64\n",
      "audio_naive:mfcc9:mean                                                     367752 non-null float64\n",
      "audio_naive:mfcc10:mean                                                    367752 non-null float64\n",
      "audio_naive:mfcc11:mean                                                    367752 non-null float64\n",
      "audio_naive:mfcc12:mean                                                    367752 non-null float64\n",
      "audio_naive:mfcc0:std                                                      367752 non-null float64\n",
      "audio_naive:mfcc1:std                                                      367752 non-null float64\n",
      "audio_naive:mfcc2:std                                                      367752 non-null float64\n",
      "audio_naive:mfcc3:std                                                      367752 non-null float64\n",
      "audio_naive:mfcc4:std                                                      367752 non-null float64\n",
      "audio_naive:mfcc5:std                                                      367752 non-null float64\n",
      "audio_naive:mfcc6:std                                                      367752 non-null float64\n",
      "audio_naive:mfcc7:std                                                      367752 non-null float64\n",
      "audio_naive:mfcc8:std                                                      367752 non-null float64\n",
      "audio_naive:mfcc9:std                                                      367752 non-null float64\n",
      "audio_naive:mfcc10:std                                                     367752 non-null float64\n",
      "audio_naive:mfcc11:std                                                     367752 non-null float64\n",
      "audio_naive:mfcc12:std                                                     367752 non-null float64\n",
      "audio_properties:max_abs_value                                             369953 non-null float64\n",
      "audio_properties:normalization_multiplier                                  369953 non-null float64\n",
      "discrete:app_state:is_active                                               377346 non-null category\n",
      "discrete:app_state:is_inactive                                             377346 non-null category\n",
      "discrete:app_state:is_background                                           377346 non-null category\n",
      "discrete:app_state:missing                                                 377346 non-null category\n",
      "discrete:battery_plugged:is_ac                                             377346 non-null category\n",
      "discrete:battery_plugged:is_usb                                            377346 non-null category\n",
      "discrete:battery_plugged:is_wireless                                       377346 non-null category\n",
      "discrete:battery_plugged:missing                                           377346 non-null category\n",
      "discrete:battery_state:is_unknown                                          377346 non-null category\n",
      "discrete:battery_state:is_unplugged                                        377346 non-null category\n",
      "discrete:battery_state:is_not_charging                                     377346 non-null category\n",
      "discrete:battery_state:is_discharging                                      377346 non-null category\n",
      "discrete:battery_state:is_charging                                         377346 non-null category\n",
      "discrete:battery_state:is_full                                             377346 non-null category\n",
      "discrete:battery_state:missing                                             377346 non-null category\n",
      "discrete:on_the_phone:is_False                                             377346 non-null category\n",
      "discrete:on_the_phone:is_True                                              377346 non-null category\n",
      "discrete:on_the_phone:missing                                              377346 non-null category\n",
      "discrete:ringer_mode:is_normal                                             377346 non-null category\n",
      "discrete:ringer_mode:is_silent_no_vibrate                                  377346 non-null category\n",
      "discrete:ringer_mode:is_silent_with_vibrate                                377346 non-null category\n",
      "discrete:ringer_mode:missing                                               377346 non-null category\n",
      "discrete:wifi_status:is_not_reachable                                      377346 non-null category\n",
      "discrete:wifi_status:is_reachable_via_wifi                                 377346 non-null category\n",
      "discrete:wifi_status:is_reachable_via_wwan                                 377346 non-null category\n",
      "discrete:wifi_status:missing                                               377346 non-null category\n",
      "lf_measurements:light                                                      147032 non-null float64\n",
      "lf_measurements:pressure                                                   107195 non-null float64\n",
      "lf_measurements:proximity_cm                                               148620 non-null float64\n",
      "lf_measurements:proximity                                                  220949 non-null float64\n",
      "lf_measurements:relative_humidity                                          25939 non-null float64\n",
      "lf_measurements:battery_level                                              377027 non-null float64\n",
      "lf_measurements:screen_brightness                                          220949 non-null float64\n",
      "lf_measurements:temperature_ambient                                        26450 non-null float64\n",
      "discrete:time_of_day:between0and6                                          377346 non-null category\n",
      "discrete:time_of_day:between3and9                                          377346 non-null category\n",
      "discrete:time_of_day:between6and12                                         377346 non-null category\n",
      "discrete:time_of_day:between9and15                                         377346 non-null category\n",
      "discrete:time_of_day:between12and18                                        377346 non-null category\n",
      "discrete:time_of_day:between15and21                                        377346 non-null category\n",
      "discrete:time_of_day:between18and24                                        377346 non-null category\n",
      "discrete:time_of_day:between21and3                                         377346 non-null category\n",
      "timestamp                                                                  377346 non-null int64\n",
      "label                                                                      377346 non-null category\n",
      "label_name                                                                 377346 non-null object\n",
      "dtypes: category(35), float64(191), int64(1), object(1)\n",
      "memory usage: 571.1+ MB\n"
     ]
    }
   ],
   "source": [
    "data.info(verbose=True, null_counts=True)"
   ]
  },
  {
   "cell_type": "code",
   "execution_count": 8,
   "metadata": {},
   "outputs": [],
   "source": [
    "train_folds_list, test_folds_list = get_folds_list(FOLD_PATH)"
   ]
  },
  {
   "cell_type": "markdown",
   "metadata": {},
   "source": [
    "### Split to train and test"
   ]
  },
  {
   "cell_type": "code",
   "execution_count": 9,
   "metadata": {},
   "outputs": [
    {
     "data": {
      "text/plain": [
       "11"
      ]
     },
     "execution_count": 9,
     "metadata": {},
     "output_type": "execute_result"
    }
   ],
   "source": [
    "from sklearn.preprocessing import OneHotEncoder\n",
    "from sklearn.impute import SimpleImputer\n",
    "from sklearn.model_selection import GridSearchCV\n",
    "from sklearn.pipeline import Pipeline\n",
    "\n",
    "from MixedColumnTransformer import MixedColumnTransformer, ColumnTypeEnum\n",
    "\n",
    "from GaussianAndBernoulliNB import GaussianAndBernoulliNB\n",
    "from sklearn.naive_bayes import BernoulliNB, GaussianNB\n",
    "\n",
    "\n",
    "\n",
    "def get_single_pre_pipe():\n",
    "    transormers = [\n",
    "        ('ohe', OneHotEncoder(sparse=False), ColumnTypeEnum.CATEGORY),\n",
    "        ('scaler', StandardScaler(), ColumnTypeEnum.NUMERIC),\n",
    "        ('SimpleImputerCat', SimpleImputer(strategy=\"most_frequent\"), ColumnTypeEnum.CATEGORY),\n",
    "        ('SimpleImputerNum', SimpleImputer(strategy='mean'), ColumnTypeEnum.NUMERIC)\n",
    "    ]\n",
    "    \n",
    "    pipe = Pipeline([\n",
    "        (\"mixed_column_transformer\", MixedColumnTransformer(transormers))\n",
    "    ])\n",
    "    \n",
    "    return pipe\n",
    "\n",
    "\n",
    "for train_fold_lst, test_fold_lst in zip(train_folds_list, test_folds_list):\n",
    "    gc.collect()\n",
    "\n",
    "    train_fold_df, test_fold_df = get_folds_train_and_test(data, train_fold_lst, test_fold_lst)\n",
    "    \n",
    "    X_fold_train, X_fold_test, y_fold_train, y_fold_test = \\\n",
    "            split_fold_data_to_features_and_labels(train_fold_df, test_fold_df)\n",
    "        \n",
    "    pipe = get_pre_pipe()\n",
    "    \n",
    "    X_train = pipe.fit_transform(X_fold_train)\n",
    "    y_train = y_fold_train\n",
    "    X_test = pipe.transform(X_fold_test)\n",
    "    y_test = y_fold_test\n",
    "    \n",
    "    cat_cols_indices = pipe['mixed_column_transformer'].cat_cols_indices_\n",
    "    num_cols_indices = pipe['mixed_column_transformer'].num_cols_indices_\n",
    "    \n",
    "    break"
   ]
  },
  {
   "cell_type": "markdown",
   "metadata": {},
   "source": [
    "### Train"
   ]
  },
  {
   "cell_type": "code",
   "execution_count": 10,
   "metadata": {},
   "outputs": [
    {
     "data": {
      "text/plain": [
       "BernoulliNB(alpha=1.0, binarize=0.0, class_prior=None, fit_prior=True)"
      ]
     },
     "execution_count": 10,
     "metadata": {},
     "output_type": "execute_result"
    },
    {
     "data": {
      "text/plain": [
       "GaussianAndBernoulliNB(bernoulli_params=None,\n",
       "                       cat_cols_indices=array([ 0,  1,  2,  3,  4,  5,  6,  7,  8,  9, 10, 11, 12, 13, 14, 15, 16,\n",
       "       17, 18, 19, 20, 21, 22, 23, 24, 25, 26, 27, 28, 29, 30, 31, 32, 33,\n",
       "       34, 35, 36, 37, 38, 39, 40, 41, 42, 43, 44, 45, 46, 47, 48, 49, 50,\n",
       "       51, 52, 53, 54, 55, 56, 57, 58, 59, 60, 61, 62, 63, 64]),\n",
       "                       gaussian_params=None,\n",
       "                       num_cols_indices=array([ 65,  66,  67,  68,  69,  70,  71,  72,  73,  74,  75,  76,  77,\n",
       "        78,  79,  80,  8...\n",
       "       104, 105, 106, 107, 108, 109, 110, 111, 112, 113, 114, 115, 116,\n",
       "       117, 118, 119, 120, 121, 122, 123, 124, 125, 126, 127, 128, 129,\n",
       "       130, 131, 132, 133, 134, 135, 136, 137, 138, 139, 140, 141, 142,\n",
       "       143, 144, 145, 146, 147, 148, 149, 150, 151, 152, 153, 154, 155,\n",
       "       156, 157, 158, 159, 160, 161, 162, 163, 164, 165, 166, 167, 168,\n",
       "       169, 170, 171, 172, 173, 174, 175, 176, 177, 178, 179, 180, 181,\n",
       "       182, 183, 184, 185, 186, 187, 188, 189, 190]))"
      ]
     },
     "execution_count": 10,
     "metadata": {},
     "output_type": "execute_result"
    },
    {
     "data": {
      "text/plain": [
       "GaussianNB(priors=None, var_smoothing=1e-09)"
      ]
     },
     "execution_count": 10,
     "metadata": {},
     "output_type": "execute_result"
    }
   ],
   "source": [
    "from sklearn.naive_bayes import BernoulliNB, GaussianNB\n",
    "from GaussianAndBernoulliNB import GaussianAndBernoulliNB\n",
    "\n",
    "\n",
    "bernoulli = BernoulliNB()\n",
    "bernoulli.fit(X_train[:, cat_cols_indices], y_train)\n",
    "\n",
    "gaussian_bernoulli = GaussianAndBernoulliNB(cat_cols_indices, num_cols_indices)\n",
    "gaussian_bernoulli.fit(X_train, y_train)\n",
    "\n",
    "gnb_grid = GaussianNB()\n",
    "gnb_grid.fit(X_train[:, num_cols_indices], y_train)"
   ]
  },
  {
   "cell_type": "markdown",
   "metadata": {},
   "source": [
    "# Results"
   ]
  },
  {
   "cell_type": "code",
   "execution_count": 11,
   "metadata": {},
   "outputs": [],
   "source": [
    "bern_pred = bernoulli.predict(X_test[:, cat_cols_indices])\n",
    "gaussian_pred = gnb_grid.predict(X_test[:, num_cols_indices])\n",
    "mixture_pred = gaussian_bernoulli.predict(X_test)"
   ]
  },
  {
   "cell_type": "markdown",
   "metadata": {},
   "source": [
    "### Compare modle scores"
   ]
  },
  {
   "cell_type": "code",
   "execution_count": 12,
   "metadata": {},
   "outputs": [],
   "source": [
    "from sklearn.metrics import f1_score, accuracy_score, classification_report"
   ]
  },
  {
   "cell_type": "code",
   "execution_count": 13,
   "metadata": {},
   "outputs": [
    {
     "name": "stdout",
     "output_type": "stream",
     "text": [
      "              precision    recall  f1-score   support\n",
      "\n",
      "           0       0.24      0.28      0.26     14966\n",
      "           1       0.04      0.03      0.03      2246\n",
      "           2       0.01      0.81      0.02       158\n",
      "           3       0.02      0.64      0.03       187\n",
      "           4       0.39      0.23      0.29     33630\n",
      "           5       0.16      0.05      0.08     13872\n",
      "\n",
      "    accuracy                           0.20     65059\n",
      "   macro avg       0.14      0.34      0.12     65059\n",
      "weighted avg       0.29      0.20      0.23     65059\n",
      "\n"
     ]
    }
   ],
   "source": [
    "print(classification_report(y_test, bern_pred))"
   ]
  },
  {
   "cell_type": "code",
   "execution_count": 14,
   "metadata": {},
   "outputs": [
    {
     "name": "stdout",
     "output_type": "stream",
     "text": [
      "              precision    recall  f1-score   support\n",
      "\n",
      "           0       0.34      0.05      0.09     14966\n",
      "           1       0.04      0.77      0.07      2246\n",
      "           2       0.01      0.16      0.01       158\n",
      "           3       0.03      0.63      0.05       187\n",
      "           4       0.71      0.15      0.25     33630\n",
      "           5       0.56      0.09      0.15     13872\n",
      "\n",
      "    accuracy                           0.14     65059\n",
      "   macro avg       0.28      0.31      0.11     65059\n",
      "weighted avg       0.57      0.14      0.19     65059\n",
      "\n"
     ]
    }
   ],
   "source": [
    "print(classification_report(y_test, gaussian_pred))"
   ]
  },
  {
   "cell_type": "code",
   "execution_count": 15,
   "metadata": {},
   "outputs": [
    {
     "name": "stdout",
     "output_type": "stream",
     "text": [
      "              precision    recall  f1-score   support\n",
      "\n",
      "           0       0.34      0.05      0.09     14966\n",
      "           1       0.04      0.83      0.08      2246\n",
      "           2       0.01      0.19      0.01       158\n",
      "           3       0.03      0.65      0.05       187\n",
      "           4       0.64      0.17      0.26     33630\n",
      "           5       0.51      0.11      0.18     13872\n",
      "\n",
      "    accuracy                           0.15     65059\n",
      "   macro avg       0.26      0.33      0.11     65059\n",
      "weighted avg       0.52      0.15      0.20     65059\n",
      "\n"
     ]
    }
   ],
   "source": [
    "print(classification_report(y_test, mixture_pred))"
   ]
  },
  {
   "cell_type": "markdown",
   "metadata": {},
   "source": [
    "### Compare model distribution"
   ]
  },
  {
   "cell_type": "code",
   "execution_count": 16,
   "metadata": {},
   "outputs": [],
   "source": [
    "y_counts = np.bincount(y_test)\n",
    "bern_counts = np.bincount(bern_pred)\n",
    "guassian_counts = np.bincount(gaussian_pred)\n",
    "mixture_counts = np.bincount(mixture_pred)"
   ]
  },
  {
   "cell_type": "code",
   "execution_count": 17,
   "metadata": {},
   "outputs": [
    {
     "data": {
      "text/plain": [
       "<BarContainer object of 6 artists>"
      ]
     },
     "execution_count": 17,
     "metadata": {},
     "output_type": "execute_result"
    },
    {
     "data": {
      "text/plain": [
       "<BarContainer object of 6 artists>"
      ]
     },
     "execution_count": 17,
     "metadata": {},
     "output_type": "execute_result"
    },
    {
     "data": {
      "text/plain": [
       "<BarContainer object of 6 artists>"
      ]
     },
     "execution_count": 17,
     "metadata": {},
     "output_type": "execute_result"
    },
    {
     "data": {
      "text/plain": [
       "<BarContainer object of 6 artists>"
      ]
     },
     "execution_count": 17,
     "metadata": {},
     "output_type": "execute_result"
    },
    {
     "data": {
      "text/plain": [
       "<matplotlib.legend.Legend at 0x1b3c5c97288>"
      ]
     },
     "execution_count": 17,
     "metadata": {},
     "output_type": "execute_result"
    },
    {
     "data": {
      "image/png": "[encoded data removed]",
      "text/plain": [
       "<Figure size 432x288 with 1 Axes>"
      ]
     },
     "metadata": {
      "needs_background": "light"
     },
     "output_type": "display_data"
    }
   ],
   "source": [
    "#plot\n",
    "fig = plt.figure()\n",
    "ax = fig.add_axes([0,0,1,1])\n",
    "\n",
    "X = np.arange(y_counts.shape[0])\n",
    "\n",
    "ax.bar(X - 0.20, bern_counts, width=0.20)\n",
    "ax.bar(X + 0.00, guassian_counts, width=0.20)\n",
    "ax.bar(X + 0.20, mixture_counts, width=0.20)\n",
    "ax.bar(X + 0.40, y_counts, width=0.20)\n",
    "\n",
    "ax.legend(['bern_counts', 'guassian_counts', 'mixture_counts', 'y'])\n",
    "\n",
    "plt.show()"
   ]
  },
  {
   "cell_type": "markdown",
   "metadata": {},
   "source": [
    "# Compare model acceptnes"
   ]
  },
  {
   "cell_type": "code",
   "execution_count": 18,
   "metadata": {},
   "outputs": [],
   "source": [
    "mixture_and_gaussian_accept = (mixture_pred == gaussian_pred) & (mixture_pred == y_test) & (gaussian_pred == y_test) \n",
    "mixture_and_bern_accept = (mixture_pred == bern_pred) & (mixture_pred == y_test) & (bern_pred == y_test) "
   ]
  },
  {
   "cell_type": "code",
   "execution_count": 19,
   "metadata": {
    "scrolled": true
   },
   "outputs": [
    {
     "data": {
      "text/plain": [
       "(737, 225)"
      ]
     },
     "execution_count": 19,
     "metadata": {},
     "output_type": "execute_result"
    }
   ],
   "source": [
    "X_fold_test[mixture_and_bern_accept].shape"
   ]
  },
  {
   "cell_type": "code",
   "execution_count": 20,
   "metadata": {},
   "outputs": [
    {
     "data": {
      "text/plain": [
       "(7904, 225)"
      ]
     },
     "execution_count": 20,
     "metadata": {},
     "output_type": "execute_result"
    }
   ],
   "source": [
    "X_fold_test[mixture_and_gaussian_accept].shape"
   ]
  },
  {
   "cell_type": "code",
   "execution_count": 21,
   "metadata": {
    "collapsed": true
   },
   "outputs": [
    {
     "data": {
      "text/html": [
       "\n",
       "    <style>\n",
       "    table.eli5-weights tr:hover {\n",
       "        filter: brightness(85%);\n",
       "    }\n",
       "</style>\n",
       "\n",
       "\n",
       "\n",
       "    \n",
       "\n",
       "    \n",
       "\n",
       "    \n",
       "\n",
       "    \n",
       "\n",
       "    \n",
       "\n",
       "    \n",
       "\n",
       "\n",
       "    \n",
       "\n",
       "    \n",
       "\n",
       "    \n",
       "\n",
       "    \n",
       "\n",
       "    \n",
       "\n",
       "    \n",
       "\n",
       "\n",
       "    \n",
       "\n",
       "    \n",
       "\n",
       "    \n",
       "\n",
       "    \n",
       "\n",
       "    \n",
       "        <table class=\"eli5-weights eli5-feature-importances\" style=\"border-collapse: collapse; border: none; margin-top: 0em; table-layout: auto;\">\n",
       "    <thead>\n",
       "    <tr style=\"border: none;\">\n",
       "        <th style=\"padding: 0 1em 0 0.5em; text-align: right; border: none;\">Weight</th>\n",
       "        <th style=\"padding: 0 0.5em 0 0.5em; text-align: left; border: none;\">Feature</th>\n",
       "    </tr>\n",
       "    </thead>\n",
       "    <tbody>\n",
       "    \n",
       "        <tr style=\"background-color: hsl(120, 100.00%, 80.00%); border: none;\">\n",
       "            <td style=\"padding: 0 1em 0 0.5em; text-align: right; border: none;\">\n",
       "                0.0012\n",
       "                \n",
       "                    &plusmn; 0.0002\n",
       "                \n",
       "            </td>\n",
       "            <td style=\"padding: 0 0.5em 0 0.5em; text-align: left; border: none;\">\n",
       "                x52\n",
       "            </td>\n",
       "        </tr>\n",
       "    \n",
       "        <tr style=\"background-color: hsl(120, 100.00%, 80.25%); border: none;\">\n",
       "            <td style=\"padding: 0 1em 0 0.5em; text-align: right; border: none;\">\n",
       "                0.0012\n",
       "                \n",
       "                    &plusmn; 0.0002\n",
       "                \n",
       "            </td>\n",
       "            <td style=\"padding: 0 0.5em 0 0.5em; text-align: left; border: none;\">\n",
       "                x51\n",
       "            </td>\n",
       "        </tr>\n",
       "    \n",
       "        <tr style=\"background-color: hsl(120, 100.00%, 84.44%); border: none;\">\n",
       "            <td style=\"padding: 0 1em 0 0.5em; text-align: right; border: none;\">\n",
       "                0.0008\n",
       "                \n",
       "                    &plusmn; 0.0002\n",
       "                \n",
       "            </td>\n",
       "            <td style=\"padding: 0 0.5em 0 0.5em; text-align: left; border: none;\">\n",
       "                x61\n",
       "            </td>\n",
       "        </tr>\n",
       "    \n",
       "        <tr style=\"background-color: hsl(120, 100.00%, 84.84%); border: none;\">\n",
       "            <td style=\"padding: 0 1em 0 0.5em; text-align: right; border: none;\">\n",
       "                0.0008\n",
       "                \n",
       "                    &plusmn; 0.0002\n",
       "                \n",
       "            </td>\n",
       "            <td style=\"padding: 0 0.5em 0 0.5em; text-align: left; border: none;\">\n",
       "                x54\n",
       "            </td>\n",
       "        </tr>\n",
       "    \n",
       "        <tr style=\"background-color: hsl(120, 100.00%, 85.89%); border: none;\">\n",
       "            <td style=\"padding: 0 1em 0 0.5em; text-align: right; border: none;\">\n",
       "                0.0007\n",
       "                \n",
       "                    &plusmn; 0.0001\n",
       "                \n",
       "            </td>\n",
       "            <td style=\"padding: 0 0.5em 0 0.5em; text-align: left; border: none;\">\n",
       "                x57\n",
       "            </td>\n",
       "        </tr>\n",
       "    \n",
       "        <tr style=\"background-color: hsl(120, 100.00%, 86.30%); border: none;\">\n",
       "            <td style=\"padding: 0 1em 0 0.5em; text-align: right; border: none;\">\n",
       "                0.0007\n",
       "                \n",
       "                    &plusmn; 0.0002\n",
       "                \n",
       "            </td>\n",
       "            <td style=\"padding: 0 0.5em 0 0.5em; text-align: left; border: none;\">\n",
       "                x16\n",
       "            </td>\n",
       "        </tr>\n",
       "    \n",
       "        <tr style=\"background-color: hsl(120, 100.00%, 86.60%); border: none;\">\n",
       "            <td style=\"padding: 0 1em 0 0.5em; text-align: right; border: none;\">\n",
       "                0.0007\n",
       "                \n",
       "                    &plusmn; 0.0001\n",
       "                \n",
       "            </td>\n",
       "            <td style=\"padding: 0 0.5em 0 0.5em; text-align: left; border: none;\">\n",
       "                x17\n",
       "            </td>\n",
       "        </tr>\n",
       "    \n",
       "        <tr style=\"background-color: hsl(120, 100.00%, 89.24%); border: none;\">\n",
       "            <td style=\"padding: 0 1em 0 0.5em; text-align: right; border: none;\">\n",
       "                0.0005\n",
       "                \n",
       "                    &plusmn; 0.0002\n",
       "                \n",
       "            </td>\n",
       "            <td style=\"padding: 0 0.5em 0 0.5em; text-align: left; border: none;\">\n",
       "                x62\n",
       "            </td>\n",
       "        </tr>\n",
       "    \n",
       "        <tr style=\"background-color: hsl(120, 100.00%, 90.04%); border: none;\">\n",
       "            <td style=\"padding: 0 1em 0 0.5em; text-align: right; border: none;\">\n",
       "                0.0004\n",
       "                \n",
       "                    &plusmn; 0.0002\n",
       "                \n",
       "            </td>\n",
       "            <td style=\"padding: 0 0.5em 0 0.5em; text-align: left; border: none;\">\n",
       "                x42\n",
       "            </td>\n",
       "        </tr>\n",
       "    \n",
       "        <tr style=\"background-color: hsl(120, 100.00%, 91.01%); border: none;\">\n",
       "            <td style=\"padding: 0 1em 0 0.5em; text-align: right; border: none;\">\n",
       "                0.0004\n",
       "                \n",
       "                    &plusmn; 0.0004\n",
       "                \n",
       "            </td>\n",
       "            <td style=\"padding: 0 0.5em 0 0.5em; text-align: left; border: none;\">\n",
       "                x45\n",
       "            </td>\n",
       "        </tr>\n",
       "    \n",
       "        <tr style=\"background-color: hsl(120, 100.00%, 94.59%); border: none;\">\n",
       "            <td style=\"padding: 0 1em 0 0.5em; text-align: right; border: none;\">\n",
       "                0.0002\n",
       "                \n",
       "                    &plusmn; 0.0001\n",
       "                \n",
       "            </td>\n",
       "            <td style=\"padding: 0 0.5em 0 0.5em; text-align: left; border: none;\">\n",
       "                x58\n",
       "            </td>\n",
       "        </tr>\n",
       "    \n",
       "        <tr style=\"background-color: hsl(120, 100.00%, 95.29%); border: none;\">\n",
       "            <td style=\"padding: 0 1em 0 0.5em; text-align: right; border: none;\">\n",
       "                0.0002\n",
       "                \n",
       "                    &plusmn; 0.0001\n",
       "                \n",
       "            </td>\n",
       "            <td style=\"padding: 0 0.5em 0 0.5em; text-align: left; border: none;\">\n",
       "                x55\n",
       "            </td>\n",
       "        </tr>\n",
       "    \n",
       "        <tr style=\"background-color: hsl(120, 100.00%, 96.19%); border: none;\">\n",
       "            <td style=\"padding: 0 1em 0 0.5em; text-align: right; border: none;\">\n",
       "                0.0001\n",
       "                \n",
       "                    &plusmn; 0.0001\n",
       "                \n",
       "            </td>\n",
       "            <td style=\"padding: 0 0.5em 0 0.5em; text-align: left; border: none;\">\n",
       "                x43\n",
       "            </td>\n",
       "        </tr>\n",
       "    \n",
       "        <tr style=\"background-color: hsl(120, 100.00%, 96.63%); border: none;\">\n",
       "            <td style=\"padding: 0 1em 0 0.5em; text-align: right; border: none;\">\n",
       "                0.0001\n",
       "                \n",
       "                    &plusmn; 0.0001\n",
       "                \n",
       "            </td>\n",
       "            <td style=\"padding: 0 0.5em 0 0.5em; text-align: left; border: none;\">\n",
       "                x59\n",
       "            </td>\n",
       "        </tr>\n",
       "    \n",
       "        <tr style=\"background-color: hsl(120, 100.00%, 97.02%); border: none;\">\n",
       "            <td style=\"padding: 0 1em 0 0.5em; text-align: right; border: none;\">\n",
       "                0.0001\n",
       "                \n",
       "                    &plusmn; 0.0001\n",
       "                \n",
       "            </td>\n",
       "            <td style=\"padding: 0 0.5em 0 0.5em; text-align: left; border: none;\">\n",
       "                x0\n",
       "            </td>\n",
       "        </tr>\n",
       "    \n",
       "        <tr style=\"background-color: hsl(120, 100.00%, 97.18%); border: none;\">\n",
       "            <td style=\"padding: 0 1em 0 0.5em; text-align: right; border: none;\">\n",
       "                0.0001\n",
       "                \n",
       "                    &plusmn; 0.0001\n",
       "                \n",
       "            </td>\n",
       "            <td style=\"padding: 0 0.5em 0 0.5em; text-align: left; border: none;\">\n",
       "                x44\n",
       "            </td>\n",
       "        </tr>\n",
       "    \n",
       "        <tr style=\"background-color: hsl(120, 100.00%, 98.81%); border: none;\">\n",
       "            <td style=\"padding: 0 1em 0 0.5em; text-align: right; border: none;\">\n",
       "                0.0000\n",
       "                \n",
       "                    &plusmn; 0.0001\n",
       "                \n",
       "            </td>\n",
       "            <td style=\"padding: 0 0.5em 0 0.5em; text-align: left; border: none;\">\n",
       "                x30\n",
       "            </td>\n",
       "        </tr>\n",
       "    \n",
       "        <tr style=\"background-color: hsl(120, 100.00%, 98.93%); border: none;\">\n",
       "            <td style=\"padding: 0 1em 0 0.5em; text-align: right; border: none;\">\n",
       "                0.0000\n",
       "                \n",
       "                    &plusmn; 0.0000\n",
       "                \n",
       "            </td>\n",
       "            <td style=\"padding: 0 0.5em 0 0.5em; text-align: left; border: none;\">\n",
       "                x1\n",
       "            </td>\n",
       "        </tr>\n",
       "    \n",
       "        <tr style=\"background-color: hsl(120, 100.00%, 99.34%); border: none;\">\n",
       "            <td style=\"padding: 0 1em 0 0.5em; text-align: right; border: none;\">\n",
       "                0.0000\n",
       "                \n",
       "                    &plusmn; 0.0001\n",
       "                \n",
       "            </td>\n",
       "            <td style=\"padding: 0 0.5em 0 0.5em; text-align: left; border: none;\">\n",
       "                x49\n",
       "            </td>\n",
       "        </tr>\n",
       "    \n",
       "        <tr style=\"background-color: hsl(120, 100.00%, 99.34%); border: none;\">\n",
       "            <td style=\"padding: 0 1em 0 0.5em; text-align: right; border: none;\">\n",
       "                0.0000\n",
       "                \n",
       "                    &plusmn; 0.0000\n",
       "                \n",
       "            </td>\n",
       "            <td style=\"padding: 0 0.5em 0 0.5em; text-align: left; border: none;\">\n",
       "                x2\n",
       "            </td>\n",
       "        </tr>\n",
       "    \n",
       "    \n",
       "        \n",
       "            <tr style=\"background-color: hsl(120, 100.00%, 99.34%); border: none;\">\n",
       "                <td colspan=\"2\" style=\"padding: 0 0.5em 0 0.5em; text-align: center; border: none; white-space: nowrap;\">\n",
       "                    <i>&hellip; 45 more &hellip;</i>\n",
       "                </td>\n",
       "            </tr>\n",
       "        \n",
       "    \n",
       "    </tbody>\n",
       "</table>\n",
       "    \n",
       "\n",
       "    \n",
       "\n",
       "\n",
       "    \n",
       "\n",
       "    \n",
       "\n",
       "    \n",
       "\n",
       "    \n",
       "\n",
       "    \n",
       "\n",
       "    \n",
       "\n",
       "\n",
       "\n"
      ],
      "text/plain": [
       "<IPython.core.display.HTML object>"
      ]
     },
     "execution_count": 21,
     "metadata": {},
     "output_type": "execute_result"
    }
   ],
   "source": [
    "import eli5\n",
    "from eli5.sklearn import PermutationImportance\n",
    "from sklearn.linear_model import LogisticRegression\n",
    "\n",
    "lr_clf = LogisticRegression()\n",
    "\n",
    "lr_clf = LogisticRegression(max_iter=1).fit(X_train[:, cat_cols_indices], y_train)\n",
    "perm = PermutationImportance(lr_clf).fit(X_test[:, cat_cols_indices], y_test)\n",
    "eli5.show_weights(perm)"
   ]
  },
  {
   "cell_type": "code",
   "execution_count": 28,
   "metadata": {
    "collapsed": true
   },
   "outputs": [
    {
     "data": {
      "text/plain": [
       "array([35, 34, 20,  5, 21,  8, 37, 36, 13,  9, 14, 40, 39,  6, 41,  4, 22,\n",
       "       25, 24, 60, 63, 23, 56, 38,  7, 50, 10, 64, 11, 53, 29, 48, 46, 47,\n",
       "       32, 31, 28, 27, 19, 18,  3, 12, 33, 15, 26,  2, 49,  1, 30, 44,  0,\n",
       "       59, 43, 55, 58, 45, 42, 62, 17, 16, 57, 54, 61, 51, 52],\n",
       "      dtype=int64)"
      ]
     },
     "execution_count": 28,
     "metadata": {},
     "output_type": "execute_result"
    }
   ],
   "source": [
    "np.argsort(perm.feature_importances_)"
   ]
  },
  {
   "cell_type": "code",
   "execution_count": 30,
   "metadata": {
    "collapsed": true
   },
   "outputs": [
    {
     "data": {
      "text/html": [
       "\n",
       "    <style>\n",
       "    table.eli5-weights tr:hover {\n",
       "        filter: brightness(85%);\n",
       "    }\n",
       "</style>\n",
       "\n",
       "\n",
       "\n",
       "    \n",
       "\n",
       "    \n",
       "\n",
       "    \n",
       "\n",
       "    \n",
       "\n",
       "    \n",
       "\n",
       "    \n",
       "\n",
       "\n",
       "    \n",
       "\n",
       "    \n",
       "\n",
       "    \n",
       "\n",
       "    \n",
       "\n",
       "    \n",
       "\n",
       "    \n",
       "\n",
       "\n",
       "    \n",
       "\n",
       "    \n",
       "\n",
       "    \n",
       "\n",
       "    \n",
       "\n",
       "    \n",
       "        <table class=\"eli5-weights eli5-feature-importances\" style=\"border-collapse: collapse; border: none; margin-top: 0em; table-layout: auto;\">\n",
       "    <thead>\n",
       "    <tr style=\"border: none;\">\n",
       "        <th style=\"padding: 0 1em 0 0.5em; text-align: right; border: none;\">Weight</th>\n",
       "        <th style=\"padding: 0 0.5em 0 0.5em; text-align: left; border: none;\">Feature</th>\n",
       "    </tr>\n",
       "    </thead>\n",
       "    <tbody>\n",
       "    \n",
       "        <tr style=\"background-color: hsl(120, 100.00%, 80.00%); border: none;\">\n",
       "            <td style=\"padding: 0 1em 0 0.5em; text-align: right; border: none;\">\n",
       "                0.0192\n",
       "                \n",
       "                    &plusmn; 0.0010\n",
       "                \n",
       "            </td>\n",
       "            <td style=\"padding: 0 0.5em 0 0.5em; text-align: left; border: none;\">\n",
       "                x5\n",
       "            </td>\n",
       "        </tr>\n",
       "    \n",
       "        <tr style=\"background-color: hsl(120, 100.00%, 80.87%); border: none;\">\n",
       "            <td style=\"padding: 0 1em 0 0.5em; text-align: right; border: none;\">\n",
       "                0.0180\n",
       "                \n",
       "                    &plusmn; 0.0009\n",
       "                \n",
       "            </td>\n",
       "            <td style=\"padding: 0 0.5em 0 0.5em; text-align: left; border: none;\">\n",
       "                x16\n",
       "            </td>\n",
       "        </tr>\n",
       "    \n",
       "        <tr style=\"background-color: hsl(120, 100.00%, 81.67%); border: none;\">\n",
       "            <td style=\"padding: 0 1em 0 0.5em; text-align: right; border: none;\">\n",
       "                0.0170\n",
       "                \n",
       "                    &plusmn; 0.0008\n",
       "                \n",
       "            </td>\n",
       "            <td style=\"padding: 0 0.5em 0 0.5em; text-align: left; border: none;\">\n",
       "                x4\n",
       "            </td>\n",
       "        </tr>\n",
       "    \n",
       "        <tr style=\"background-color: hsl(120, 100.00%, 83.61%); border: none;\">\n",
       "            <td style=\"padding: 0 1em 0 0.5em; text-align: right; border: none;\">\n",
       "                0.0145\n",
       "                \n",
       "                    &plusmn; 0.0008\n",
       "                \n",
       "            </td>\n",
       "            <td style=\"padding: 0 0.5em 0 0.5em; text-align: left; border: none;\">\n",
       "                x24\n",
       "            </td>\n",
       "        </tr>\n",
       "    \n",
       "        <tr style=\"background-color: hsl(120, 100.00%, 86.53%); border: none;\">\n",
       "            <td style=\"padding: 0 1em 0 0.5em; text-align: right; border: none;\">\n",
       "                0.0109\n",
       "                \n",
       "                    &plusmn; 0.0006\n",
       "                \n",
       "            </td>\n",
       "            <td style=\"padding: 0 0.5em 0 0.5em; text-align: left; border: none;\">\n",
       "                x22\n",
       "            </td>\n",
       "        </tr>\n",
       "    \n",
       "        <tr style=\"background-color: hsl(120, 100.00%, 89.18%); border: none;\">\n",
       "            <td style=\"padding: 0 1em 0 0.5em; text-align: right; border: none;\">\n",
       "                0.0080\n",
       "                \n",
       "                    &plusmn; 0.0003\n",
       "                \n",
       "            </td>\n",
       "            <td style=\"padding: 0 0.5em 0 0.5em; text-align: left; border: none;\">\n",
       "                x49\n",
       "            </td>\n",
       "        </tr>\n",
       "    \n",
       "        <tr style=\"background-color: hsl(120, 100.00%, 89.55%); border: none;\">\n",
       "            <td style=\"padding: 0 1em 0 0.5em; text-align: right; border: none;\">\n",
       "                0.0076\n",
       "                \n",
       "                    &plusmn; 0.0012\n",
       "                \n",
       "            </td>\n",
       "            <td style=\"padding: 0 0.5em 0 0.5em; text-align: left; border: none;\">\n",
       "                x13\n",
       "            </td>\n",
       "        </tr>\n",
       "    \n",
       "        <tr style=\"background-color: hsl(120, 100.00%, 89.78%); border: none;\">\n",
       "            <td style=\"padding: 0 1em 0 0.5em; text-align: right; border: none;\">\n",
       "                0.0074\n",
       "                \n",
       "                    &plusmn; 0.0005\n",
       "                \n",
       "            </td>\n",
       "            <td style=\"padding: 0 0.5em 0 0.5em; text-align: left; border: none;\">\n",
       "                x23\n",
       "            </td>\n",
       "        </tr>\n",
       "    \n",
       "        <tr style=\"background-color: hsl(120, 100.00%, 91.78%); border: none;\">\n",
       "            <td style=\"padding: 0 1em 0 0.5em; text-align: right; border: none;\">\n",
       "                0.0054\n",
       "                \n",
       "                    &plusmn; 0.0008\n",
       "                \n",
       "            </td>\n",
       "            <td style=\"padding: 0 0.5em 0 0.5em; text-align: left; border: none;\">\n",
       "                x44\n",
       "            </td>\n",
       "        </tr>\n",
       "    \n",
       "        <tr style=\"background-color: hsl(120, 100.00%, 91.99%); border: none;\">\n",
       "            <td style=\"padding: 0 1em 0 0.5em; text-align: right; border: none;\">\n",
       "                0.0052\n",
       "                \n",
       "                    &plusmn; 0.0005\n",
       "                \n",
       "            </td>\n",
       "            <td style=\"padding: 0 0.5em 0 0.5em; text-align: left; border: none;\">\n",
       "                x42\n",
       "            </td>\n",
       "        </tr>\n",
       "    \n",
       "        <tr style=\"background-color: hsl(120, 100.00%, 92.34%); border: none;\">\n",
       "            <td style=\"padding: 0 1em 0 0.5em; text-align: right; border: none;\">\n",
       "                0.0049\n",
       "                \n",
       "                    &plusmn; 0.0005\n",
       "                \n",
       "            </td>\n",
       "            <td style=\"padding: 0 0.5em 0 0.5em; text-align: left; border: none;\">\n",
       "                x50\n",
       "            </td>\n",
       "        </tr>\n",
       "    \n",
       "        <tr style=\"background-color: hsl(120, 100.00%, 93.71%); border: none;\">\n",
       "            <td style=\"padding: 0 1em 0 0.5em; text-align: right; border: none;\">\n",
       "                0.0037\n",
       "                \n",
       "                    &plusmn; 0.0010\n",
       "                \n",
       "            </td>\n",
       "            <td style=\"padding: 0 0.5em 0 0.5em; text-align: left; border: none;\">\n",
       "                x39\n",
       "            </td>\n",
       "        </tr>\n",
       "    \n",
       "        <tr style=\"background-color: hsl(120, 100.00%, 93.91%); border: none;\">\n",
       "            <td style=\"padding: 0 1em 0 0.5em; text-align: right; border: none;\">\n",
       "                0.0035\n",
       "                \n",
       "                    &plusmn; 0.0011\n",
       "                \n",
       "            </td>\n",
       "            <td style=\"padding: 0 0.5em 0 0.5em; text-align: left; border: none;\">\n",
       "                x34\n",
       "            </td>\n",
       "        </tr>\n",
       "    \n",
       "        <tr style=\"background-color: hsl(120, 100.00%, 94.16%); border: none;\">\n",
       "            <td style=\"padding: 0 1em 0 0.5em; text-align: right; border: none;\">\n",
       "                0.0033\n",
       "                \n",
       "                    &plusmn; 0.0001\n",
       "                \n",
       "            </td>\n",
       "            <td style=\"padding: 0 0.5em 0 0.5em; text-align: left; border: none;\">\n",
       "                x55\n",
       "            </td>\n",
       "        </tr>\n",
       "    \n",
       "        <tr style=\"background-color: hsl(120, 100.00%, 94.19%); border: none;\">\n",
       "            <td style=\"padding: 0 1em 0 0.5em; text-align: right; border: none;\">\n",
       "                0.0033\n",
       "                \n",
       "                    &plusmn; 0.0005\n",
       "                \n",
       "            </td>\n",
       "            <td style=\"padding: 0 0.5em 0 0.5em; text-align: left; border: none;\">\n",
       "                x6\n",
       "            </td>\n",
       "        </tr>\n",
       "    \n",
       "        <tr style=\"background-color: hsl(120, 100.00%, 94.82%); border: none;\">\n",
       "            <td style=\"padding: 0 1em 0 0.5em; text-align: right; border: none;\">\n",
       "                0.0028\n",
       "                \n",
       "                    &plusmn; 0.0011\n",
       "                \n",
       "            </td>\n",
       "            <td style=\"padding: 0 0.5em 0 0.5em; text-align: left; border: none;\">\n",
       "                x43\n",
       "            </td>\n",
       "        </tr>\n",
       "    \n",
       "        <tr style=\"background-color: hsl(120, 100.00%, 95.09%); border: none;\">\n",
       "            <td style=\"padding: 0 1em 0 0.5em; text-align: right; border: none;\">\n",
       "                0.0026\n",
       "                \n",
       "                    &plusmn; 0.0004\n",
       "                \n",
       "            </td>\n",
       "            <td style=\"padding: 0 0.5em 0 0.5em; text-align: left; border: none;\">\n",
       "                x8\n",
       "            </td>\n",
       "        </tr>\n",
       "    \n",
       "        <tr style=\"background-color: hsl(120, 100.00%, 95.28%); border: none;\">\n",
       "            <td style=\"padding: 0 1em 0 0.5em; text-align: right; border: none;\">\n",
       "                0.0024\n",
       "                \n",
       "                    &plusmn; 0.0004\n",
       "                \n",
       "            </td>\n",
       "            <td style=\"padding: 0 0.5em 0 0.5em; text-align: left; border: none;\">\n",
       "                x56\n",
       "            </td>\n",
       "        </tr>\n",
       "    \n",
       "        <tr style=\"background-color: hsl(120, 100.00%, 95.72%); border: none;\">\n",
       "            <td style=\"padding: 0 1em 0 0.5em; text-align: right; border: none;\">\n",
       "                0.0021\n",
       "                \n",
       "                    &plusmn; 0.0003\n",
       "                \n",
       "            </td>\n",
       "            <td style=\"padding: 0 0.5em 0 0.5em; text-align: left; border: none;\">\n",
       "                x0\n",
       "            </td>\n",
       "        </tr>\n",
       "    \n",
       "        <tr style=\"background-color: hsl(120, 100.00%, 96.09%); border: none;\">\n",
       "            <td style=\"padding: 0 1em 0 0.5em; text-align: right; border: none;\">\n",
       "                0.0019\n",
       "                \n",
       "                    &plusmn; 0.0005\n",
       "                \n",
       "            </td>\n",
       "            <td style=\"padding: 0 0.5em 0 0.5em; text-align: left; border: none;\">\n",
       "                x41\n",
       "            </td>\n",
       "        </tr>\n",
       "    \n",
       "    \n",
       "        \n",
       "            <tr style=\"background-color: hsl(120, 100.00%, 96.09%); border: none;\">\n",
       "                <td colspan=\"2\" style=\"padding: 0 0.5em 0 0.5em; text-align: center; border: none; white-space: nowrap;\">\n",
       "                    <i>&hellip; 45 more &hellip;</i>\n",
       "                </td>\n",
       "            </tr>\n",
       "        \n",
       "    \n",
       "    </tbody>\n",
       "</table>\n",
       "    \n",
       "\n",
       "    \n",
       "\n",
       "\n",
       "    \n",
       "\n",
       "    \n",
       "\n",
       "    \n",
       "\n",
       "    \n",
       "\n",
       "    \n",
       "\n",
       "    \n",
       "\n",
       "\n",
       "\n"
      ],
      "text/plain": [
       "<IPython.core.display.HTML object>"
      ]
     },
     "execution_count": 30,
     "metadata": {},
     "output_type": "execute_result"
    }
   ],
   "source": [
    "import eli5\n",
    "from eli5.sklearn import PermutationImportance\n",
    "from sklearn.ensemble import RandomForestClassifier\n",
    "\n",
    "rf_clf = RandomForestClassifier()\n",
    "\n",
    "rf_clf = RandomForestClassifier(n_estimators=1).fit(X_train[:, cat_cols_indices], y_train)\n",
    "perm = PermutationImportance(rf_clf).fit(X_test[:, cat_cols_indices], y_test)\n",
    "eli5.show_weights(perm)"
   ]
  },
  {
   "cell_type": "code",
   "execution_count": 31,
   "metadata": {},
   "outputs": [
    {
     "data": {
      "text/plain": [
       "array([20, 63, 64, 60, 37, 58, 61,  7, 21,  1, 17, 45, 28, 62, 14, 40,  9,\n",
       "        2, 48, 33, 11, 27, 12, 18, 19, 47, 46, 38, 35, 26, 15, 32,  3, 53,\n",
       "       59, 30, 29, 54, 31, 36, 57, 10, 25, 52, 51, 41,  0, 56,  8, 43,  6,\n",
       "       55, 34, 39, 50, 42, 44, 23, 13, 49, 22, 24,  4, 16,  5],\n",
       "      dtype=int64)"
      ]
     },
     "execution_count": 31,
     "metadata": {},
     "output_type": "execute_result"
    }
   ],
   "source": [
    "np.argsort(perm.feature_importances_)"
   ]
  },
  {
   "cell_type": "code",
   "execution_count": 32,
   "metadata": {
    "collapsed": true
   },
   "outputs": [
    {
     "ename": "AttributeError",
     "evalue": "'numpy.ndarray' object has no attribute 'select_dtypes'",
     "output_type": "error",
     "traceback": [
      "\u001b[1;31m---------------------------------------------------------------------------\u001b[0m",
      "\u001b[1;31mAttributeError\u001b[0m                            Traceback (most recent call last)",
      "\u001b[1;32m<ipython-input-32-93ab47aa18c5>\u001b[0m in \u001b[0;36m<module>\u001b[1;34m\u001b[0m\n\u001b[0;32m     11\u001b[0m ])\n\u001b[0;32m     12\u001b[0m \u001b[1;33m\u001b[0m\u001b[0m\n\u001b[1;32m---> 13\u001b[1;33m \u001b[0mrf_clf\u001b[0m \u001b[1;33m=\u001b[0m \u001b[0mpipe\u001b[0m\u001b[1;33m.\u001b[0m\u001b[0mfit\u001b[0m\u001b[1;33m(\u001b[0m\u001b[0mX_train\u001b[0m\u001b[1;33m[\u001b[0m\u001b[1;33m:\u001b[0m\u001b[1;33m,\u001b[0m \u001b[0mcat_cols_indices\u001b[0m\u001b[1;33m]\u001b[0m\u001b[1;33m,\u001b[0m \u001b[0my_train\u001b[0m\u001b[1;33m)\u001b[0m\u001b[1;33m\u001b[0m\u001b[1;33m\u001b[0m\u001b[0m\n\u001b[0m\u001b[0;32m     14\u001b[0m \u001b[0mperm\u001b[0m \u001b[1;33m=\u001b[0m \u001b[0mPermutationImportance\u001b[0m\u001b[1;33m(\u001b[0m\u001b[0mrf_clf\u001b[0m\u001b[1;33m)\u001b[0m\u001b[1;33m.\u001b[0m\u001b[0mfit\u001b[0m\u001b[1;33m(\u001b[0m\u001b[0mX_test\u001b[0m\u001b[1;33m[\u001b[0m\u001b[1;33m:\u001b[0m\u001b[1;33m,\u001b[0m \u001b[0mcat_cols_indices\u001b[0m\u001b[1;33m]\u001b[0m\u001b[1;33m,\u001b[0m \u001b[0my_test\u001b[0m\u001b[1;33m)\u001b[0m\u001b[1;33m\u001b[0m\u001b[1;33m\u001b[0m\u001b[0m\n\u001b[0;32m     15\u001b[0m \u001b[0meli5\u001b[0m\u001b[1;33m.\u001b[0m\u001b[0mshow_weights\u001b[0m\u001b[1;33m(\u001b[0m\u001b[0mperm\u001b[0m\u001b[1;33m)\u001b[0m\u001b[1;33m\u001b[0m\u001b[1;33m\u001b[0m\u001b[0m\n",
      "\u001b[1;32m~\\Anaconda3\\lib\\site-packages\\sklearn\\pipeline.py\u001b[0m in \u001b[0;36mfit\u001b[1;34m(self, X, y, **fit_params)\u001b[0m\n\u001b[0;32m    350\u001b[0m             \u001b[0mThis\u001b[0m \u001b[0mestimator\u001b[0m\u001b[1;33m\u001b[0m\u001b[1;33m\u001b[0m\u001b[0m\n\u001b[0;32m    351\u001b[0m         \"\"\"\n\u001b[1;32m--> 352\u001b[1;33m         \u001b[0mXt\u001b[0m\u001b[1;33m,\u001b[0m \u001b[0mfit_params\u001b[0m \u001b[1;33m=\u001b[0m \u001b[0mself\u001b[0m\u001b[1;33m.\u001b[0m\u001b[0m_fit\u001b[0m\u001b[1;33m(\u001b[0m\u001b[0mX\u001b[0m\u001b[1;33m,\u001b[0m \u001b[0my\u001b[0m\u001b[1;33m,\u001b[0m \u001b[1;33m**\u001b[0m\u001b[0mfit_params\u001b[0m\u001b[1;33m)\u001b[0m\u001b[1;33m\u001b[0m\u001b[1;33m\u001b[0m\u001b[0m\n\u001b[0m\u001b[0;32m    353\u001b[0m         with _print_elapsed_time('Pipeline',\n\u001b[0;32m    354\u001b[0m                                  self._log_message(len(self.steps) - 1)):\n",
      "\u001b[1;32m~\\Anaconda3\\lib\\site-packages\\sklearn\\pipeline.py\u001b[0m in \u001b[0;36m_fit\u001b[1;34m(self, X, y, **fit_params)\u001b[0m\n\u001b[0;32m    315\u001b[0m                 \u001b[0mmessage_clsname\u001b[0m\u001b[1;33m=\u001b[0m\u001b[1;34m'Pipeline'\u001b[0m\u001b[1;33m,\u001b[0m\u001b[1;33m\u001b[0m\u001b[1;33m\u001b[0m\u001b[0m\n\u001b[0;32m    316\u001b[0m                 \u001b[0mmessage\u001b[0m\u001b[1;33m=\u001b[0m\u001b[0mself\u001b[0m\u001b[1;33m.\u001b[0m\u001b[0m_log_message\u001b[0m\u001b[1;33m(\u001b[0m\u001b[0mstep_idx\u001b[0m\u001b[1;33m)\u001b[0m\u001b[1;33m,\u001b[0m\u001b[1;33m\u001b[0m\u001b[1;33m\u001b[0m\u001b[0m\n\u001b[1;32m--> 317\u001b[1;33m                 **fit_params_steps[name])\n\u001b[0m\u001b[0;32m    318\u001b[0m             \u001b[1;31m# Replace the transformer of the step with the fitted\u001b[0m\u001b[1;33m\u001b[0m\u001b[1;33m\u001b[0m\u001b[1;33m\u001b[0m\u001b[0m\n\u001b[0;32m    319\u001b[0m             \u001b[1;31m# transformer. This is necessary when loading the transformer\u001b[0m\u001b[1;33m\u001b[0m\u001b[1;33m\u001b[0m\u001b[1;33m\u001b[0m\u001b[0m\n",
      "\u001b[1;32m~\\Anaconda3\\lib\\site-packages\\joblib\\memory.py\u001b[0m in \u001b[0;36m__call__\u001b[1;34m(self, *args, **kwargs)\u001b[0m\n\u001b[0;32m    353\u001b[0m \u001b[1;33m\u001b[0m\u001b[0m\n\u001b[0;32m    354\u001b[0m     \u001b[1;32mdef\u001b[0m \u001b[0m__call__\u001b[0m\u001b[1;33m(\u001b[0m\u001b[0mself\u001b[0m\u001b[1;33m,\u001b[0m \u001b[1;33m*\u001b[0m\u001b[0margs\u001b[0m\u001b[1;33m,\u001b[0m \u001b[1;33m**\u001b[0m\u001b[0mkwargs\u001b[0m\u001b[1;33m)\u001b[0m\u001b[1;33m:\u001b[0m\u001b[1;33m\u001b[0m\u001b[1;33m\u001b[0m\u001b[0m\n\u001b[1;32m--> 355\u001b[1;33m         \u001b[1;32mreturn\u001b[0m \u001b[0mself\u001b[0m\u001b[1;33m.\u001b[0m\u001b[0mfunc\u001b[0m\u001b[1;33m(\u001b[0m\u001b[1;33m*\u001b[0m\u001b[0margs\u001b[0m\u001b[1;33m,\u001b[0m \u001b[1;33m**\u001b[0m\u001b[0mkwargs\u001b[0m\u001b[1;33m)\u001b[0m\u001b[1;33m\u001b[0m\u001b[1;33m\u001b[0m\u001b[0m\n\u001b[0m\u001b[0;32m    356\u001b[0m \u001b[1;33m\u001b[0m\u001b[0m\n\u001b[0;32m    357\u001b[0m     \u001b[1;32mdef\u001b[0m \u001b[0mcall_and_shelve\u001b[0m\u001b[1;33m(\u001b[0m\u001b[0mself\u001b[0m\u001b[1;33m,\u001b[0m \u001b[1;33m*\u001b[0m\u001b[0margs\u001b[0m\u001b[1;33m,\u001b[0m \u001b[1;33m**\u001b[0m\u001b[0mkwargs\u001b[0m\u001b[1;33m)\u001b[0m\u001b[1;33m:\u001b[0m\u001b[1;33m\u001b[0m\u001b[1;33m\u001b[0m\u001b[0m\n",
      "\u001b[1;32m~\\Anaconda3\\lib\\site-packages\\sklearn\\pipeline.py\u001b[0m in \u001b[0;36m_fit_transform_one\u001b[1;34m(transformer, X, y, weight, message_clsname, message, **fit_params)\u001b[0m\n\u001b[0;32m    714\u001b[0m     \u001b[1;32mwith\u001b[0m \u001b[0m_print_elapsed_time\u001b[0m\u001b[1;33m(\u001b[0m\u001b[0mmessage_clsname\u001b[0m\u001b[1;33m,\u001b[0m \u001b[0mmessage\u001b[0m\u001b[1;33m)\u001b[0m\u001b[1;33m:\u001b[0m\u001b[1;33m\u001b[0m\u001b[1;33m\u001b[0m\u001b[0m\n\u001b[0;32m    715\u001b[0m         \u001b[1;32mif\u001b[0m \u001b[0mhasattr\u001b[0m\u001b[1;33m(\u001b[0m\u001b[0mtransformer\u001b[0m\u001b[1;33m,\u001b[0m \u001b[1;34m'fit_transform'\u001b[0m\u001b[1;33m)\u001b[0m\u001b[1;33m:\u001b[0m\u001b[1;33m\u001b[0m\u001b[1;33m\u001b[0m\u001b[0m\n\u001b[1;32m--> 716\u001b[1;33m             \u001b[0mres\u001b[0m \u001b[1;33m=\u001b[0m \u001b[0mtransformer\u001b[0m\u001b[1;33m.\u001b[0m\u001b[0mfit_transform\u001b[0m\u001b[1;33m(\u001b[0m\u001b[0mX\u001b[0m\u001b[1;33m,\u001b[0m \u001b[0my\u001b[0m\u001b[1;33m,\u001b[0m \u001b[1;33m**\u001b[0m\u001b[0mfit_params\u001b[0m\u001b[1;33m)\u001b[0m\u001b[1;33m\u001b[0m\u001b[1;33m\u001b[0m\u001b[0m\n\u001b[0m\u001b[0;32m    717\u001b[0m         \u001b[1;32melse\u001b[0m\u001b[1;33m:\u001b[0m\u001b[1;33m\u001b[0m\u001b[1;33m\u001b[0m\u001b[0m\n\u001b[0;32m    718\u001b[0m             \u001b[0mres\u001b[0m \u001b[1;33m=\u001b[0m \u001b[0mtransformer\u001b[0m\u001b[1;33m.\u001b[0m\u001b[0mfit\u001b[0m\u001b[1;33m(\u001b[0m\u001b[0mX\u001b[0m\u001b[1;33m,\u001b[0m \u001b[0my\u001b[0m\u001b[1;33m,\u001b[0m \u001b[1;33m**\u001b[0m\u001b[0mfit_params\u001b[0m\u001b[1;33m)\u001b[0m\u001b[1;33m.\u001b[0m\u001b[0mtransform\u001b[0m\u001b[1;33m(\u001b[0m\u001b[0mX\u001b[0m\u001b[1;33m)\u001b[0m\u001b[1;33m\u001b[0m\u001b[1;33m\u001b[0m\u001b[0m\n",
      "\u001b[1;32m~\\Desktop\\ExtraSensory\\src\\MixedColumnTransformer.py\u001b[0m in \u001b[0;36mfit_transform\u001b[1;34m(self, X, y, **fit_params)\u001b[0m\n\u001b[0;32m     71\u001b[0m \u001b[1;33m\u001b[0m\u001b[0m\n\u001b[0;32m     72\u001b[0m     \u001b[1;32mdef\u001b[0m \u001b[0mfit_transform\u001b[0m\u001b[1;33m(\u001b[0m\u001b[0mself\u001b[0m\u001b[1;33m,\u001b[0m \u001b[0mX\u001b[0m\u001b[1;33m:\u001b[0m \u001b[0mpd\u001b[0m\u001b[1;33m.\u001b[0m\u001b[0mDataFrame\u001b[0m\u001b[1;33m,\u001b[0m \u001b[0my\u001b[0m\u001b[1;33m=\u001b[0m\u001b[1;32mNone\u001b[0m\u001b[1;33m,\u001b[0m \u001b[1;33m**\u001b[0m\u001b[0mfit_params\u001b[0m\u001b[1;33m)\u001b[0m\u001b[1;33m:\u001b[0m\u001b[1;33m\u001b[0m\u001b[1;33m\u001b[0m\u001b[0m\n\u001b[1;32m---> 73\u001b[1;33m         \u001b[0mself\u001b[0m\u001b[1;33m.\u001b[0m\u001b[0mfit\u001b[0m\u001b[1;33m(\u001b[0m\u001b[0mX\u001b[0m\u001b[1;33m)\u001b[0m\u001b[1;33m\u001b[0m\u001b[1;33m\u001b[0m\u001b[0m\n\u001b[0m\u001b[0;32m     74\u001b[0m         \u001b[0mX_transformed\u001b[0m \u001b[1;33m=\u001b[0m \u001b[0mself\u001b[0m\u001b[1;33m.\u001b[0m\u001b[0mtransform\u001b[0m\u001b[1;33m(\u001b[0m\u001b[0mX\u001b[0m\u001b[1;33m)\u001b[0m\u001b[1;33m\u001b[0m\u001b[1;33m\u001b[0m\u001b[0m\n\u001b[0;32m     75\u001b[0m \u001b[1;33m\u001b[0m\u001b[0m\n",
      "\u001b[1;32m~\\Desktop\\ExtraSensory\\src\\MixedColumnTransformer.py\u001b[0m in \u001b[0;36mfit\u001b[1;34m(self, X, y)\u001b[0m\n\u001b[0;32m     18\u001b[0m     \u001b[1;32mdef\u001b[0m \u001b[0mfit\u001b[0m\u001b[1;33m(\u001b[0m\u001b[0mself\u001b[0m\u001b[1;33m,\u001b[0m \u001b[0mX\u001b[0m\u001b[1;33m:\u001b[0m \u001b[0mpd\u001b[0m\u001b[1;33m.\u001b[0m\u001b[0mDataFrame\u001b[0m\u001b[1;33m,\u001b[0m \u001b[0my\u001b[0m\u001b[1;33m=\u001b[0m\u001b[1;32mNone\u001b[0m\u001b[1;33m)\u001b[0m\u001b[1;33m:\u001b[0m\u001b[1;33m\u001b[0m\u001b[1;33m\u001b[0m\u001b[0m\n\u001b[0;32m     19\u001b[0m         \u001b[0mself\u001b[0m\u001b[1;33m.\u001b[0m\u001b[0mcategorial_columns_\u001b[0m\u001b[1;33m,\u001b[0m \u001b[0mself\u001b[0m\u001b[1;33m.\u001b[0m\u001b[0mnumeric_columns_\u001b[0m \u001b[1;33m=\u001b[0m\u001b[0;31m\\\u001b[0m\u001b[1;33m\u001b[0m\u001b[1;33m\u001b[0m\u001b[0m\n\u001b[1;32m---> 20\u001b[1;33m             \u001b[0mself\u001b[0m\u001b[1;33m.\u001b[0m\u001b[0msplit_cat_num_cols\u001b[0m\u001b[1;33m(\u001b[0m\u001b[0mX\u001b[0m\u001b[1;33m)\u001b[0m\u001b[1;33m\u001b[0m\u001b[1;33m\u001b[0m\u001b[0m\n\u001b[0m\u001b[0;32m     21\u001b[0m \u001b[1;33m\u001b[0m\u001b[0m\n\u001b[0;32m     22\u001b[0m         \u001b[0mX_category\u001b[0m \u001b[1;33m=\u001b[0m \u001b[0mX\u001b[0m\u001b[1;33m[\u001b[0m\u001b[0mself\u001b[0m\u001b[1;33m.\u001b[0m\u001b[0mcategorial_columns_\u001b[0m\u001b[1;33m]\u001b[0m\u001b[1;33m\u001b[0m\u001b[1;33m\u001b[0m\u001b[0m\n",
      "\u001b[1;32m~\\Desktop\\ExtraSensory\\src\\MixedColumnTransformer.py\u001b[0m in \u001b[0;36msplit_cat_num_cols\u001b[1;34m(X)\u001b[0m\n\u001b[0;32m     78\u001b[0m     \u001b[1;33m@\u001b[0m\u001b[0mstaticmethod\u001b[0m\u001b[1;33m\u001b[0m\u001b[1;33m\u001b[0m\u001b[0m\n\u001b[0;32m     79\u001b[0m     \u001b[1;32mdef\u001b[0m \u001b[0msplit_cat_num_cols\u001b[0m\u001b[1;33m(\u001b[0m\u001b[0mX\u001b[0m\u001b[1;33m:\u001b[0m \u001b[0mpd\u001b[0m\u001b[1;33m.\u001b[0m\u001b[0mDataFrame\u001b[0m\u001b[1;33m)\u001b[0m\u001b[1;33m:\u001b[0m\u001b[1;33m\u001b[0m\u001b[1;33m\u001b[0m\u001b[0m\n\u001b[1;32m---> 80\u001b[1;33m         \u001b[0mcat_cols\u001b[0m \u001b[1;33m=\u001b[0m \u001b[0mX\u001b[0m\u001b[1;33m.\u001b[0m\u001b[0mselect_dtypes\u001b[0m\u001b[1;33m(\u001b[0m\u001b[0minclude\u001b[0m\u001b[1;33m=\u001b[0m\u001b[1;33m[\u001b[0m\u001b[1;34m\"category\"\u001b[0m\u001b[1;33m]\u001b[0m\u001b[1;33m)\u001b[0m\u001b[1;33m.\u001b[0m\u001b[0mcolumns\u001b[0m\u001b[1;33m\u001b[0m\u001b[1;33m\u001b[0m\u001b[0m\n\u001b[0m\u001b[0;32m     81\u001b[0m         \u001b[0mnum_cols\u001b[0m \u001b[1;33m=\u001b[0m \u001b[0mX\u001b[0m\u001b[1;33m.\u001b[0m\u001b[0mselect_dtypes\u001b[0m\u001b[1;33m(\u001b[0m\u001b[0mexclude\u001b[0m\u001b[1;33m=\u001b[0m\u001b[1;33m[\u001b[0m\u001b[1;34m\"category\"\u001b[0m\u001b[1;33m]\u001b[0m\u001b[1;33m)\u001b[0m\u001b[1;33m.\u001b[0m\u001b[0mcolumns\u001b[0m\u001b[1;33m\u001b[0m\u001b[1;33m\u001b[0m\u001b[0m\n\u001b[0;32m     82\u001b[0m \u001b[1;33m\u001b[0m\u001b[0m\n",
      "\u001b[1;31mAttributeError\u001b[0m: 'numpy.ndarray' object has no attribute 'select_dtypes'"
     ]
    }
   ],
   "source": [
    "transormers = [\n",
    "        ('ohe', OneHotEncoder(sparse=False), ColumnTypeEnum.CATEGORY),\n",
    "        ('scaler', StandardScaler(), ColumnTypeEnum.NUMERIC),\n",
    "        ('SimpleImputerCat', SimpleImputer(strategy=\"most_frequent\"), ColumnTypeEnum.CATEGORY),\n",
    "        ('SimpleImputerNum', SimpleImputer(strategy='mean'), ColumnTypeEnum.NUMERIC)\n",
    "]\n",
    "    \n",
    "pipe = Pipeline([\n",
    "    (\"mixed_column_transformer\", MixedColumnTransformer(transormers)),\n",
    "    (\"clf_model\", RandomForestClassifier(n_estimators=1))\n",
    "])\n",
    "\n",
    "rf_clf = pipe.fit(X_train[:, cat_cols_indices], y_train)\n",
    "perm = PermutationImportance(rf_clf).fit(X_test[:, cat_cols_indices], y_test)\n",
    "eli5.show_weights(perm)"
   ]
  },
  {
   "cell_type": "markdown",
   "metadata": {},
   "source": [
    "# ========================="
   ]
  },
  {
   "cell_type": "code",
   "execution_count": 43,
   "metadata": {},
   "outputs": [
    {
     "data": {
      "text/plain": [
       "0          1\n",
       "1          1\n",
       "2          1\n",
       "3          1\n",
       "4          1\n",
       "          ..\n",
       "312282    47\n",
       "312283    47\n",
       "312284    47\n",
       "312285    47\n",
       "312286    47\n",
       "Length: 312287, dtype: int8"
      ]
     },
     "execution_count": 43,
     "metadata": {},
     "output_type": "execute_result"
    }
   ],
   "source": [
    "groups = pd.Series(X_fold_train.index).astype('category').cat.codes"
   ]
  },
  {
   "cell_type": "code",
   "execution_count": 65,
   "metadata": {},
   "outputs": [
    {
     "name": "stdout",
     "output_type": "stream",
     "text": [
      "TRAIN: [  6172   6173   6174 ... 312284 312285 312286] TEST: [     0      1      2 ... 303781 303782 303783]\n",
      "TRAIN: [     0      1      2 ... 303781 303782 303783] TEST: [ 20512  20513  20514 ... 312284 312285 312286]\n",
      "TRAIN: [     0      1      2 ... 312284 312285 312286] TEST: [  6172   6173   6174 ... 290515 290516 290517]\n"
     ]
    }
   ],
   "source": [
    "from sklearn.model_selection import GroupKFold\n",
    "\n",
    "gkf = GroupKFold(n_splits=3)\n",
    "\n",
    "for train_index, test_index in gkf.split(X_fold_train, groups=ser.cat.codes):\n",
    "    print(\"TRAIN:\", train_index, \"TEST:\", test_index)\n",
    "    X_train_, X_test_ = X_fold_train.iloc[train_index], X_fold_train.iloc[test_index]\n",
    "    \n",
    "    for index in np.unique(X_train_.index):\n",
    "        if index in np.unique(X_test_.index):\n",
    "            raise Exception(\"\")"
   ]
  },
  {
   "cell_type": "code",
   "execution_count": null,
   "metadata": {},
   "outputs": [],
   "source": []
  }
 ],
 "metadata": {
  "kernelspec": {
   "display_name": "Python 3",
   "language": "python",
   "name": "python3"
  },
  "language_info": {
   "codemirror_mode": {
    "name": "ipython",
    "version": 3
   },
   "file_extension": ".py",
   "mimetype": "text/x-python",
   "name": "python",
   "nbconvert_exporter": "python",
   "pygments_lexer": "ipython3",
   "version": "3.7.4"
  }
 },
 "nbformat": 4,
 "nbformat_minor": 2
}
