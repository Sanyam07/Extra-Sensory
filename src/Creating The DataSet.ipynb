{
 "cells": [
  {
   "cell_type": "code",
   "execution_count": null,
   "metadata": {},
   "outputs": [],
   "source": [
    "%matplotlib inline\n",
    "\n",
    "import matplotlib as mpl\n",
    "import matplotlib.pyplot as plt\n",
    "import pandas as pd \n",
    "import numpy as np\n",
    "\n",
    "from IPython.core.display import display, HTML\n",
    "display(HTML(\"<style>.container { width:100% !important; }</style>\"))\n",
    "from IPython.core.interactiveshell import InteractiveShell\n",
    "InteractiveShell.ast_node_interactivity = \"all\""
   ]
  },
  {
   "cell_type": "code",
   "execution_count": null,
   "metadata": {},
   "outputs": [],
   "source": [
    "from General import *\n",
    "from ReadingTheDataUtils import *\n",
    "\n",
    "# Make the notebook automatically reload external python modules\n",
    "%load_ext autoreload\n",
    "%autoreload 2"
   ]
  },
  {
   "cell_type": "code",
   "execution_count": null,
   "metadata": {},
   "outputs": [],
   "source": [
    "from pathlib import Path\n",
    "\n",
    "ROOT_PATH = Path('..')\n",
    "SRC_PATH = Path('.')\n",
    "DATA_PATH = ROOT_PATH / 'data'\n",
    "CSV_PATH = DATA_PATH / 'ExtraSensory.per_uuid_features_labels'\n",
    "CSV_SUFFIX = '.features_labels.csv'\n",
    "ORIGINAL_LABLES_CSV_PATH = DATA_PATH / 'ExtraSensory.per_uuid_original_labels'\n",
    "ORIGINAL_LABLES_CSV_SUFFIX = '.original_labels.csv'\n",
    "FOLD_PATH = DATA_PATH / 'cv_5_folds'"
   ]
  },
  {
   "cell_type": "markdown",
   "metadata": {},
   "source": [
    "### Read the features data"
   ]
  },
  {
   "cell_type": "code",
   "execution_count": null,
   "metadata": {},
   "outputs": [],
   "source": [
    "%%time\n",
    "# Read all data\n",
    "features_df = get_all_uuids(CSV_PATH)\n",
    "\n",
    "optimize_features_data(features_df)"
   ]
  },
  {
   "cell_type": "code",
   "execution_count": 8,
   "metadata": {},
   "outputs": [
    {
     "ename": "NameError",
     "evalue": "name 'features_df' is not defined",
     "output_type": "error",
     "traceback": [
      "\u001b[1;31m---------------------------------------------------------------------------\u001b[0m",
      "\u001b[1;31mNameError\u001b[0m                                 Traceback (most recent call last)",
      "\u001b[1;32m<ipython-input-8-4601d2d02e61>\u001b[0m in \u001b[0;36m<module>\u001b[1;34m\u001b[0m\n\u001b[1;32m----> 1\u001b[1;33m \u001b[0mfeatures_df\u001b[0m\u001b[1;33m.\u001b[0m\u001b[0minfo\u001b[0m\u001b[1;33m(\u001b[0m\u001b[0mverbose\u001b[0m\u001b[1;33m=\u001b[0m\u001b[1;32mTrue\u001b[0m\u001b[1;33m)\u001b[0m\u001b[1;33m\u001b[0m\u001b[1;33m\u001b[0m\u001b[0m\n\u001b[0m",
      "\u001b[1;31mNameError\u001b[0m: name 'features_df' is not defined"
     ]
    }
   ],
   "source": [
    "features_df.info(verbose=True)"
   ]
  },
  {
   "cell_type": "code",
   "execution_count": null,
   "metadata": {},
   "outputs": [],
   "source": [
    "features_df.head()"
   ]
  },
  {
   "cell_type": "markdown",
   "metadata": {},
   "source": [
    "### Reading the original lables "
   ]
  },
  {
   "cell_type": "code",
   "execution_count": null,
   "metadata": {},
   "outputs": [],
   "source": [
    "%%time\n",
    "original_labels_df = get_all_uuids(ORIGINAL_LABLES_CSV_PATH)\n",
    "MAIN_ACTIVITY_LABLES = ['original_label:LYING_DOWN', 'original_label:SITTING',\n",
    "                       'original_label:STANDING_IN_PLACE', 'original_label:STANDING_AND_MOVING',\n",
    "                       'original_label:WALKING', 'original_label:RUNNING',\n",
    "                       'original_label:BICYCLING']\n",
    "\n",
    "original_labels_df = original_labels_df[MAIN_ACTIVITY_LABLES + ['timestamp']]\n",
    "original_labels_df[MAIN_ACTIVITY_LABLES] = original_labels_df[MAIN_ACTIVITY_LABLES].astype('category')"
   ]
  },
  {
   "cell_type": "code",
   "execution_count": null,
   "metadata": {},
   "outputs": [],
   "source": [
    "original_labels_df.head()"
   ]
  },
  {
   "cell_type": "markdown",
   "metadata": {},
   "source": [
    "### Create the dataset"
   ]
  },
  {
   "cell_type": "code",
   "execution_count": null,
   "metadata": {},
   "outputs": [],
   "source": [
    "data = pd.merge(features_df, original_labels_df,\n",
    "                how='left',\n",
    "                left_on=['uuid','timestamp'], right_on = ['uuid','timestamp'])"
   ]
  },
  {
   "cell_type": "code",
   "execution_count": null,
   "metadata": {},
   "outputs": [],
   "source": [
    "data.head()"
   ]
  },
  {
   "cell_type": "code",
   "execution_count": null,
   "metadata": {},
   "outputs": [],
   "source": [
    "# Testing\n",
    "from itertools import combinations\n",
    "\n",
    "def is_mutual_exclusive(series_1, series_2):\n",
    "    return  series_1 & series_2\n",
    "\n",
    "for cols in combinations(data[MAIN_ACTIVITY_LABLES].columns, 2):\n",
    "    series_1 = data[cols[0]]\n",
    "    series_2 = data[cols[1]]\n",
    "    \n",
    "    mask = is_mutual_exclusive(series_1, series_2)\n",
    "    \n",
    "    if data[mask].shape[0] > 0:\n",
    "        raise ValueError(\"the lables contains unmutual exclusive rows\")"
   ]
  },
  {
   "cell_type": "code",
   "execution_count": null,
   "metadata": {},
   "outputs": [],
   "source": [
    "# Mapping between label name and a unique category number\n",
    "def create_mapping_dict(main_activity_lables):\n",
    "    main_activity_lables_mapping = dict()\n",
    "\n",
    "    for category, label in enumerate(main_activity_lables):\n",
    "        main_activity_lables_mapping[category] = label\n",
    "        \n",
    "    return main_activity_lables_mapping\n",
    "    \n",
    "def map_label_index_to_name(index, main_activity_lables_mapping):\n",
    "    label_name = main_activity_lables_mapping[index]\n",
    "    \n",
    "    return label_name\n",
    "\n",
    "\n",
    "main_activity_lables_mapping = create_mapping_dict(MAIN_ACTIVITY_LABLES)\n",
    "data['label'] = np.argmax(data[MAIN_ACTIVITY_LABLES].values, axis=1)\n",
    "data['label_name'] = data['label'].apply(map_label_index_to_name, main_activity_lables_mapping=main_activity_lables_mapping)\n",
    "\n",
    "data.drop(MAIN_ACTIVITY_LABLES, inplace=True, axis=1)"
   ]
  },
  {
   "cell_type": "code",
   "execution_count": null,
   "metadata": {},
   "outputs": [],
   "source": [
    "data.head()"
   ]
  },
  {
   "cell_type": "code",
   "execution_count": null,
   "metadata": {},
   "outputs": [],
   "source": [
    "data.shape"
   ]
  },
  {
   "cell_type": "code",
   "execution_count": null,
   "metadata": {},
   "outputs": [],
   "source": [
    "data.describe()"
   ]
  },
  {
   "cell_type": "code",
   "execution_count": null,
   "metadata": {},
   "outputs": [],
   "source": [
    "data.info(verbose=True, null_counts=True)"
   ]
  },
  {
   "cell_type": "code",
   "execution_count": null,
   "metadata": {},
   "outputs": [],
   "source": [
    "data.to_csv(DATA_PATH / \"dataset.csv\")"
   ]
  },
  {
   "cell_type": "code",
   "execution_count": null,
   "metadata": {},
   "outputs": [],
   "source": []
  }
 ],
 "metadata": {
  "kernelspec": {
   "display_name": "Python 3",
   "language": "python",
   "name": "python3"
  },
  "language_info": {
   "codemirror_mode": {
    "name": "ipython",
    "version": 3
   },
   "file_extension": ".py",
   "mimetype": "text/x-python",
   "name": "python",
   "nbconvert_exporter": "python",
   "pygments_lexer": "ipython3",
   "version": "3.7.1"
  }
 },
 "nbformat": 4,
 "nbformat_minor": 2
}
